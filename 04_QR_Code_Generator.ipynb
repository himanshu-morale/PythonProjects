{
 "cells": [
  {
   "cell_type": "code",
   "execution_count": 1,
   "id": "97cf3b49-7243-4c4c-b191-0e71b2c0e427",
   "metadata": {},
   "outputs": [
    {
     "name": "stdin",
     "output_type": "stream",
     "text": [
      "Enter the Text or URL:  https://github.com/himanshu-morale\n",
      "Enter the Filename:  qrcode.png\n"
     ]
    }
   ],
   "source": [
    "import qrcode as qr\n",
    "data=input(\"Enter the Text or URL: \")\n",
    "filename=input(\"Enter the Filename: \")\n",
    "image=qr.make(data)\n",
    "image.save(filename)"
   ]
  }
 ],
 "metadata": {
  "kernelspec": {
   "display_name": "Python 3 (ipykernel)",
   "language": "python",
   "name": "python3"
  },
  "language_info": {
   "codemirror_mode": {
    "name": "ipython",
    "version": 3
   },
   "file_extension": ".py",
   "mimetype": "text/x-python",
   "name": "python",
   "nbconvert_exporter": "python",
   "pygments_lexer": "ipython3",
   "version": "3.13.7"
  }
 },
 "nbformat": 4,
 "nbformat_minor": 5
}
