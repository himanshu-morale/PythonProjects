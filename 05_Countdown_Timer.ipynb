{
 "cells": [
  {
   "cell_type": "code",
   "execution_count": 1,
   "id": "1b22ddc2-714e-4a29-80ba-e625d8c66873",
   "metadata": {},
   "outputs": [
    {
     "name": "stdin",
     "output_type": "stream",
     "text": [
      "Enter time in seconds:  10\n"
     ]
    },
    {
     "name": "stdout",
     "output_type": "stream",
     "text": [
      "00:00:10\n",
      "00:00:09\n",
      "00:00:08\n",
      "00:00:07\n",
      "00:00:06\n",
      "00:00:05\n",
      "00:00:04\n",
      "00:00:03\n",
      "00:00:02\n",
      "00:00:01\n",
      "TIME'S UP\n"
     ]
    }
   ],
   "source": [
    "import time\n",
    "my_time=int(input(\"Enter time in seconds: \"))\n",
    "for i in range(my_time,0,-1):\n",
    "    seconds=i%60\n",
    "    minute=int(i/60)%60\n",
    "    hours=int(i/3600)\n",
    "    print(f\"{hours:02}:{minute:02}:{seconds:02}\")\n",
    "    time.sleep(1)\n",
    "print(\"TIME'S UP\")    "
   ]
  }
 ],
 "metadata": {
  "kernelspec": {
   "display_name": "Python 3 (ipykernel)",
   "language": "python",
   "name": "python3"
  },
  "language_info": {
   "codemirror_mode": {
    "name": "ipython",
    "version": 3
   },
   "file_extension": ".py",
   "mimetype": "text/x-python",
   "name": "python",
   "nbconvert_exporter": "python",
   "pygments_lexer": "ipython3",
   "version": "3.13.7"
  }
 },
 "nbformat": 4,
 "nbformat_minor": 5
}
