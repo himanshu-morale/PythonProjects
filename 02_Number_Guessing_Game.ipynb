{
 "cells": [
  {
   "cell_type": "code",
   "execution_count": 4,
   "id": "47694764-860c-44c6-961b-add666b7bbd9",
   "metadata": {},
   "outputs": [
    {
     "name": "stdout",
     "output_type": "stream",
     "text": [
      "------Guess The Number------\n"
     ]
    },
    {
     "name": "stdin",
     "output_type": "stream",
     "text": [
      "Enter your guess between 1-100 (0 to quit) :  50\n"
     ]
    },
    {
     "name": "stdout",
     "output_type": "stream",
     "text": [
      "Too High\n"
     ]
    },
    {
     "name": "stdin",
     "output_type": "stream",
     "text": [
      "Enter your guess between 1-100 (0 to quit) :  40\n"
     ]
    },
    {
     "name": "stdout",
     "output_type": "stream",
     "text": [
      "Congrats! You guessed it right\n"
     ]
    }
   ],
   "source": [
    "import random\n",
    "number=random.randint(1,100)\n",
    "guess=0\n",
    "print(\"------Guess The Number------\")\n",
    "while True:\n",
    "    try:\n",
    "        guess=int(input(\"Enter your guess between 1-100 (0 to quit) : \"))\n",
    "    except ValueError:\n",
    "        print(\"Please enter a valid integer\")\n",
    "    if guess==0:\n",
    "        print(\"Better luck next time\")\n",
    "        print(f\"The number was {number}\")\n",
    "        break\n",
    "    elif guess<number and guess>0:\n",
    "        print(\"Too Low\")\n",
    "    elif guess==number:\n",
    "        print(\"Congrats! You guessed it right\")\n",
    "        break\n",
    "    elif guess>number and guess<=100:\n",
    "        print(\"Too High\")\n",
    "    else:\n",
    "        print(\"Please enter number between 1-100\")\n",
    "        "
   ]
  }
 ],
 "metadata": {
  "kernelspec": {
   "display_name": "Python 3 (ipykernel)",
   "language": "python",
   "name": "python3"
  },
  "language_info": {
   "codemirror_mode": {
    "name": "ipython",
    "version": 3
   },
   "file_extension": ".py",
   "mimetype": "text/x-python",
   "name": "python",
   "nbconvert_exporter": "python",
   "pygments_lexer": "ipython3",
   "version": "3.13.7"
  }
 },
 "nbformat": 4,
 "nbformat_minor": 5
}
