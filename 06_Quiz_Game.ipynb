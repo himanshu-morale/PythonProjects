{
 "cells": [
  {
   "cell_type": "code",
   "execution_count": 1,
   "id": "5fee57c9-65ad-4b39-b154-6d4b88f99cda",
   "metadata": {},
   "outputs": [
    {
     "name": "stdout",
     "output_type": "stream",
     "text": [
      "-----Welcome to Quizzify-----\n",
      "1. What is the capital of India?\n",
      "a. Mumbai \n",
      "b. New Delhi\n",
      "c. Kolkata\n",
      "d. Chennai \n"
     ]
    },
    {
     "name": "stdin",
     "output_type": "stream",
     "text": [
      "Enter your answer(a/b/c/d):  f\n"
     ]
    },
    {
     "name": "stdout",
     "output_type": "stream",
     "text": [
      "Choose a valid option(a/b/c/d) \n"
     ]
    },
    {
     "name": "stdin",
     "output_type": "stream",
     "text": [
      "Enter your answer(a/b/c/d):  b\n"
     ]
    },
    {
     "name": "stdout",
     "output_type": "stream",
     "text": [
      "✅ Correct! \n",
      "\n",
      "2. Which planet is known as the \"Red Planet\"?\n",
      "a. Jupiter \n",
      "b. Venus\n",
      "c. Mars\n",
      "d. Saturn\n"
     ]
    },
    {
     "name": "stdin",
     "output_type": "stream",
     "text": [
      "Enter your answer(a/b/c/d):  c\n"
     ]
    },
    {
     "name": "stdout",
     "output_type": "stream",
     "text": [
      "✅ Correct! \n",
      "\n",
      "3. Who painted the Mona Lisa?\n",
      "a. Vincent van Gogh\n",
      "b. Leonardo da Vinci\n",
      "c. Pablo Picasso\n",
      "d. Michelangelo \n"
     ]
    },
    {
     "name": "stdin",
     "output_type": "stream",
     "text": [
      "Enter your answer(a/b/c/d):  b\n"
     ]
    },
    {
     "name": "stdout",
     "output_type": "stream",
     "text": [
      "✅ Correct! \n",
      "\n",
      "4. What is the world's largest ocean?\n",
      "a. Atlantic Ocean\n",
      "b. Indian Ocean\n",
      "c. Arctic Ocean\n",
      "d. Pacific Ocean \n"
     ]
    },
    {
     "name": "stdin",
     "output_type": "stream",
     "text": [
      "Enter your answer(a/b/c/d):  b\n"
     ]
    },
    {
     "name": "stdout",
     "output_type": "stream",
     "text": [
      "❌ Wrong Answer! Correct answer is d\n",
      "\n",
      "5. What is the chemical symbol for gold?\n",
      "a. Ag\n",
      "b. Go\n",
      "c. Au\n",
      "d. Gd\n"
     ]
    },
    {
     "name": "stdin",
     "output_type": "stream",
     "text": [
      "Enter your answer(a/b/c/d):  c\n"
     ]
    },
    {
     "name": "stdout",
     "output_type": "stream",
     "text": [
      "✅ Correct! \n",
      "\n",
      "6. Which U.S. state is known as the \"Lone Star State\"?\n",
      "a. California\n",
      "b. Florida\n",
      "c. Texas\n",
      "d.  New York \n"
     ]
    },
    {
     "name": "stdin",
     "output_type": "stream",
     "text": [
      "Enter your answer(a/b/c/d):  d\n"
     ]
    },
    {
     "name": "stdout",
     "output_type": "stream",
     "text": [
      "❌ Wrong Answer! Correct answer is c\n",
      "\n",
      "\n",
      "Your final score is 4 out of 6\n"
     ]
    }
   ],
   "source": [
    "questions=[\n",
    "    \"1. What is the capital of India?\",\n",
    "    \"2. Which planet is known as the \\\"Red Planet\\\"?\",\n",
    "    \"3. Who painted the Mona Lisa?\",\n",
    "    \"4. What is the world's largest ocean?\",\n",
    "    \"5. What is the chemical symbol for gold?\",\n",
    "    \"6. Which U.S. state is known as the \\\"Lone Star State\\\"?\"\n",
    "]\n",
    "options=[\n",
    "    (\"a. Mumbai \",\"b. New Delhi\",\"c. Kolkata\",\"d. Chennai \"),\n",
    "    (\"a. Jupiter \",\"b. Venus\",\"c. Mars\",\"d. Saturn\"),\n",
    "    (\"a. Vincent van Gogh\",\"b. Leonardo da Vinci\",\"c. Pablo Picasso\",\"d. Michelangelo \"),\n",
    "    (\"a. Atlantic Ocean\",\"b. Indian Ocean\",\"c. Arctic Ocean\",\"d. Pacific Ocean \"),\n",
    "    (\"a. Ag\",\"b. Go\",\"c. Au\",\"d. Gd\"),\n",
    "    (\"a. California\",\"b. Florida\",\"c. Texas\",\"d.  New York \"),\n",
    "]\n",
    "answers=[\"b\",\"c\",\"b\",\"d\",\"c\",\"c\"]\n",
    "score=0\n",
    "print(\"-----Welcome to Quizzify-----\")\n",
    "for i in range(len(questions)):\n",
    "    print(questions[i])\n",
    "    for option in options[i]:\n",
    "        print(option)\n",
    "    while True:\n",
    "        user_answer=input(\"Enter your answer(a/b/c/d): \")\n",
    "        if user_answer in \"abcd\":\n",
    "            break\n",
    "        else:\n",
    "            print(\"Choose a valid option(a/b/c/d) \")\n",
    "    if user_answer==answers[i]:\n",
    "        print(\"✅ Correct! \\n\") \n",
    "        score+=1\n",
    "    else:\n",
    "        print(f\"❌ Wrong Answer! Correct answer is {answers[i]}\\n\")\n",
    "        \n",
    "print(f\"\\nYour final score is {score} out of {len(questions)}\")"
   ]
  }
 ],
 "metadata": {
  "kernelspec": {
   "display_name": "Python 3 (ipykernel)",
   "language": "python",
   "name": "python3"
  },
  "language_info": {
   "codemirror_mode": {
    "name": "ipython",
    "version": 3
   },
   "file_extension": ".py",
   "mimetype": "text/x-python",
   "name": "python",
   "nbconvert_exporter": "python",
   "pygments_lexer": "ipython3",
   "version": "3.13.7"
  }
 },
 "nbformat": 4,
 "nbformat_minor": 5
}
