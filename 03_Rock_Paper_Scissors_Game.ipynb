{
 "cells": [
  {
   "cell_type": "code",
   "execution_count": 1,
   "id": "1befea8a-4e18-48bc-b448-5f2d98e38521",
   "metadata": {},
   "outputs": [
    {
     "name": "stdin",
     "output_type": "stream",
     "text": [
      "Rock,Paper or Scissors?(r,p,s):  r\n"
     ]
    },
    {
     "name": "stdout",
     "output_type": "stream",
     "text": [
      "You Choose r\n",
      "Computer choose p\n",
      "Computer won\n"
     ]
    },
    {
     "name": "stdin",
     "output_type": "stream",
     "text": [
      "Do you want to continue(y/n):  p\n",
      "Rock,Paper or Scissors?(r,p,s):  p\n"
     ]
    },
    {
     "name": "stdout",
     "output_type": "stream",
     "text": [
      "You Choose p\n",
      "Computer choose r\n",
      "You won\n"
     ]
    },
    {
     "name": "stdin",
     "output_type": "stream",
     "text": [
      "Do you want to continue(y/n):  n\n"
     ]
    },
    {
     "name": "stdout",
     "output_type": "stream",
     "text": [
      "Thanks for playing\n"
     ]
    }
   ],
   "source": [
    "import random\n",
    "while True:\n",
    "    computer_move=random.choice([\"r\",\"p\",\"s\"])\n",
    "    user_move=input(\"Rock,Paper or Scissors?(r,p,s): \").lower()\n",
    "    if user_move!=\"r\" and user_move!=\"p\" and user_move!=\"s\":\n",
    "        print(\"Invalid Choice\")\n",
    "    elif computer_move==user_move:\n",
    "        print(f\"You Choose {user_move}\")\n",
    "        print(f\"Computer choose {computer_move}\")\n",
    "        print(\"Tie\")\n",
    "\n",
    "    elif computer_move==\"r\" and user_move==\"p\":\n",
    "        print(f\"You Choose {user_move}\")\n",
    "        print(f\"Computer choose {computer_move}\")\n",
    "        print(\"You won\")\n",
    "        \n",
    "    elif computer_move==\"p\" and user_move==\"s\":\n",
    "        print(f\"You Choose {user_move}\")\n",
    "        print(f\"Computer choose {computer_move}\")\n",
    "        print(\"You won\")\n",
    "        \n",
    "    elif computer_move==\"s\" and user_move==\"r\":\n",
    "        print(f\"You Choose {user_move}\")\n",
    "        print(f\"Computer choose {computer_move}\")\n",
    "        print(\"You won\")\n",
    "\n",
    "    else:\n",
    "        print(f\"You Choose {user_move}\")\n",
    "        print(f\"Computer choose {computer_move}\")\n",
    "        print(\"Computer won\")\n",
    "    cont=input(\"Do you want to continue(y/n): \").lower()\n",
    "    if cont==\"y\":\n",
    "        continue\n",
    "    elif cont==\"n\":\n",
    "        print(\"Thanks for playing\")\n",
    "        break\n",
    "        "
   ]
  },
  {
   "cell_type": "markdown",
   "id": "5a309d93-6783-4a26-89bc-6cb56517024b",
   "metadata": {},
   "source": [
    "# **Modularizing the code**"
   ]
  },
  {
   "cell_type": "code",
   "execution_count": 4,
   "id": "2adfe8ce-60c2-46fe-a3a2-0b421ed880b7",
   "metadata": {},
   "outputs": [
    {
     "name": "stdout",
     "output_type": "stream",
     "text": [
      "------ Rock, Paper, Scissors Game ------\n"
     ]
    },
    {
     "name": "stdin",
     "output_type": "stream",
     "text": [
      "Rock, Paper or Scissors? (r, p, s):  r\n"
     ]
    },
    {
     "name": "stdout",
     "output_type": "stream",
     "text": [
      "\n",
      "You chose: Rock\n",
      "Computer chose: Scissors\n",
      "You Won!\n"
     ]
    },
    {
     "name": "stdin",
     "output_type": "stream",
     "text": [
      "\n",
      "Do you want to play again? (y/n):  y\n",
      "Rock, Paper or Scissors? (r, p, s):  p\n"
     ]
    },
    {
     "name": "stdout",
     "output_type": "stream",
     "text": [
      "\n",
      "You chose: Paper\n",
      "Computer chose: Paper\n",
      "It's a Tie!\n"
     ]
    },
    {
     "name": "stdin",
     "output_type": "stream",
     "text": [
      "\n",
      "Do you want to play again? (y/n):  p\n"
     ]
    },
    {
     "name": "stdout",
     "output_type": "stream",
     "text": [
      "Thanks for playing! 👋\n"
     ]
    }
   ],
   "source": [
    "import random\n",
    "\n",
    "def get_computer_move():\n",
    "    return random.choice((\"r\", \"p\", \"s\"))\n",
    "\n",
    "def get_user_move():\n",
    "    while True:\n",
    "        user_move = input(\"Rock, Paper or Scissors? (r, p, s): \").lower()\n",
    "        if user_move in (\"r\", \"p\", \"s\"):\n",
    "            return user_move\n",
    "        else:\n",
    "            print(\"Invalid choice! Please try again.\")\n",
    "\n",
    "def display_move(user_move, computer_move):\n",
    "    moves = {\"r\": \"Rock\", \"p\": \"Paper\", \"s\": \"Scissors\"}\n",
    "    print(f\"\\nYou chose: {moves[user_move]}\")\n",
    "    print(f\"Computer chose: {moves[computer_move]}\")\n",
    "\n",
    "def decide_winner(user_move, computer_move):\n",
    "    display_move(user_move, computer_move)\n",
    "    if user_move == computer_move:\n",
    "        print(\"It's a Tie!\")\n",
    "    elif ((user_move == \"r\" and computer_move == \"s\") or\n",
    "         (user_move == \"p\" and computer_move == \"r\") or\n",
    "         (user_move == \"s\" and computer_move == \"p\")):\n",
    "        print(\"You Won!\")\n",
    "    else:\n",
    "        print(\"You Lost!\")\n",
    "\n",
    "def play_game():\n",
    "    print(\"------ Rock, Paper, Scissors Game ------\")\n",
    "    while True:\n",
    "        computer_move = get_computer_move()\n",
    "        user_move = get_user_move()\n",
    "        decide_winner(user_move, computer_move)\n",
    "\n",
    "        cont = input(\"\\nDo you want to play again? (y): \").lower()\n",
    "        if cont != \"y\":\n",
    "            print(\"Thanks for playing! 👋\")\n",
    "            break\n",
    "\n",
    "play_game()\n",
    "     "
   ]
  }
 ],
 "metadata": {
  "kernelspec": {
   "display_name": "Python 3 (ipykernel)",
   "language": "python",
   "name": "python3"
  },
  "language_info": {
   "codemirror_mode": {
    "name": "ipython",
    "version": 3
   },
   "file_extension": ".py",
   "mimetype": "text/x-python",
   "name": "python",
   "nbconvert_exporter": "python",
   "pygments_lexer": "ipython3",
   "version": "3.13.7"
  }
 },
 "nbformat": 4,
 "nbformat_minor": 5
}
